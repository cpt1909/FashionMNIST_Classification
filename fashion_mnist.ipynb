{
 "cells": [
  {
   "cell_type": "markdown",
   "metadata": {},
   "source": [
    "1. IMPORT ALL NECESSARY PACKAGES"
   ]
  },
  {
   "cell_type": "code",
   "execution_count": 1,
   "metadata": {},
   "outputs": [],
   "source": [
    "from keras.datasets import fashion_mnist\n",
    "from tensorflow.keras.models import Sequential, load_model\n",
    "from tensorflow.keras.layers import Conv2D, MaxPooling2D, Dense, Flatten\n",
    "from tensorflow.keras.optimizers import Adam\n",
    "import matplotlib.pyplot as plt\n",
    "import numpy as np\n",
    "import os"
   ]
  },
  {
   "cell_type": "markdown",
   "metadata": {},
   "source": [
    "2. LOAD THE DATASET AND VISUALIZE FEW SAMPLES"
   ]
  },
  {
   "cell_type": "code",
   "execution_count": 2,
   "metadata": {},
   "outputs": [
    {
     "name": "stdout",
     "output_type": "stream",
     "text": [
      "Train: X =  (60000, 28, 28)\n",
      "Test: X =  (10000, 28, 28)\n"
     ]
    },
    {
     "data": {
      "image/png": "[encoded data removed]",
      "text/plain": [
       "<Figure size 640x480 with 9 Axes>"
      ]
     },
     "metadata": {},
     "output_type": "display_data"
    }
   ],
   "source": [
    "(trainX, trainy), (testX, testy) = fashion_mnist.load_data()\n",
    "print('Train: X = ', trainX.shape)\n",
    "print('Test: X = ', testX.shape)\n",
    "\n",
    "for i in range(1, 10):\n",
    "    plt.subplot(3, 3, i)\n",
    "    plt.imshow(trainX[i], cmap='grey')\n",
    "plt.show()"
   ]
  },
  {
   "cell_type": "markdown",
   "metadata": {},
   "source": [
    "3. DATA PREPROCESSING"
   ]
  },
  {
   "cell_type": "code",
   "execution_count": 3,
   "metadata": {},
   "outputs": [
    {
     "name": "stdout",
     "output_type": "stream",
     "text": [
      "(60000, 28, 28, 1)\n"
     ]
    }
   ],
   "source": [
    "trainX = np.expand_dims(trainX, -1)\n",
    "testX = np.expand_dims(testX, -1)\n",
    "trainX = trainX / 255.0\n",
    "testX = testX / 255.0\n",
    "print(trainX.shape)"
   ]
  },
  {
   "cell_type": "markdown",
   "metadata": {},
   "source": [
    "4. MODEL ARCHITECTURE DEFINITION AND TRAINING"
   ]
  },
  {
   "cell_type": "code",
   "execution_count": 4,
   "metadata": {},
   "outputs": [
    {
     "name": "stdout",
     "output_type": "stream",
     "text": [
      "Loading saved model...\n"
     ]
    }
   ],
   "source": [
    "model_path = \"fashion_mnist_model.keras\"\n",
    "if os.path.exists(model_path):\n",
    "    print(\"Loading saved model...\")\n",
    "    model = load_model(model_path)\n",
    "    \n",
    "else:\n",
    "    print(\"No saved model found. Training a new model...\")\n",
    "    \n",
    "    def model_arch():\n",
    "        models = Sequential()\n",
    "        models.add(Conv2D(64, (5, 5), padding=\"same\", activation=\"relu\", input_shape=(28, 28, 1)))\n",
    "        models.add(MaxPooling2D(pool_size=(2, 2)))\n",
    "        models.add(Conv2D(128, (5, 5), padding=\"same\", activation=\"relu\"))\n",
    "        models.add(MaxPooling2D(pool_size=(2, 2)))\n",
    "        models.add(Conv2D(256, (5, 5), padding=\"same\", activation=\"relu\"))\n",
    "        models.add(MaxPooling2D(pool_size=(2, 2)))\n",
    "        models.add(Flatten())\n",
    "        models.add(Dense(256, activation=\"relu\"))\n",
    "        models.add(Dense(10, activation=\"softmax\"))\n",
    "        return models\n",
    "\n",
    "    model = model_arch()\n",
    "    model.compile(optimizer=Adam(learning_rate=1e-3),\n",
    "                  loss='sparse_categorical_crossentropy',\n",
    "                  metrics=['sparse_categorical_accuracy'])\n",
    "    \n",
    "    history = model.fit(\n",
    "        trainX,\n",
    "        trainy,\n",
    "        batch_size = 32,\n",
    "        epochs=10,\n",
    "        steps_per_epoch=len(trainX) // 32,\n",
    "        validation_split=0.2,\n",
    "        \n",
    "    )\n",
    "    \n",
    "    model.save(model_path)\n",
    "    print(f\"Model saved at {model_path}\")\n",
    "\n",
    "    plt.plot(history.history['sparse_categorical_accuracy'])\n",
    "    plt.plot(history.history['val_sparse_categorical_accuracy'])\n",
    "    plt.title('Model Accuracy')\n",
    "    plt.ylabel('Accuracy')\n",
    "    plt.xlabel('epoch')\n",
    "    plt.legend(['train', 'val'], loc='upper left')\n",
    "    plt.show()\n",
    "\n",
    "    plt.plot(history.history['loss'])\n",
    "    plt.plot(history.history['val_loss'])\n",
    "    plt.title('Model Loss')\n",
    "    plt.ylabel('Loss')\n",
    "    plt.xlabel('epoch')\n",
    "    plt.legend(['train', 'val'], loc='upper left')\n",
    "    plt.show()"
   ]
  },
  {
   "cell_type": "markdown",
   "metadata": {},
   "source": [
    "5. MODEL EVALUATION"
   ]
  },
  {
   "cell_type": "code",
   "execution_count": 5,
   "metadata": {},
   "outputs": [
    {
     "name": "stdout",
     "output_type": "stream",
     "text": [
      "\u001b[1m313/313\u001b[0m \u001b[32m━━━━━━━━━━━━━━━━━━━━\u001b[0m\u001b[37m\u001b[0m \u001b[1m5s\u001b[0m 15ms/step - loss: 0.4046 - sparse_categorical_accuracy: 0.9084\n",
      "Test Accuracy: 90.89%\n"
     ]
    }
   ],
   "source": [
    "test_loss, test_accuracy = model.evaluate(testX, testy)\n",
    "print(f\"Test Accuracy: {test_accuracy * 100:.2f}%\")"
   ]
  },
  {
   "cell_type": "markdown",
   "metadata": {},
   "source": [
    "6. TEST THE MODEL"
   ]
  },
  {
   "cell_type": "code",
   "execution_count": 6,
   "metadata": {},
   "outputs": [
    {
     "name": "stdout",
     "output_type": "stream",
     "text": [
      "\u001b[1m1/1\u001b[0m \u001b[32m━━━━━━━━━━━━━━━━━━━━\u001b[0m\u001b[37m\u001b[0m \u001b[1m0s\u001b[0m 74ms/step\n",
      "Predicted Label: dress\n",
      "Actual: dress\n"
     ]
    },
    {
     "data": {
      "image/png": "[encoded data removed]",
      "text/plain": [
       "<Figure size 640x480 with 1 Axes>"
      ]
     },
     "metadata": {},
     "output_type": "display_data"
    }
   ],
   "source": [
    "labels = ['t_shirt', 'trouser', 'pullover', 'dress', 'coat',\n",
    "          'sandal', 'shirt', 'sneaker', 'bag', 'ankle_boots']\n",
    "\n",
    "data = int(input(\"Enter Test Data Index:\"))\n",
    "\n",
    "true_label_index = testy[data]\n",
    "true_label = labels[true_label_index]\n",
    "\n",
    "predictions = model.predict(testX[data:data+1])\n",
    "label = labels[np.argmax(predictions)]\n",
    "print(\"Predicted Label:\", label)\n",
    "print(\"Actual:\", true_label)\n",
    "\n",
    "plt.imshow(testX[data:data+1][0], cmap='grey')\n",
    "plt.title(f\"Predicted: {label}\\nActual: {true_label}\")\n",
    "plt.show()"
   ]
  }
 ],
 "metadata": {
  "kernelspec": {
   "display_name": "Python 3",
   "language": "python",
   "name": "python3"
  },
  "language_info": {
   "codemirror_mode": {
    "name": "ipython",
    "version": 3
   },
   "file_extension": ".py",
   "mimetype": "text/x-python",
   "name": "python",
   "nbconvert_exporter": "python",
   "pygments_lexer": "ipython3",
   "version": "3.12.8"
  }
 },
 "nbformat": 4,
 "nbformat_minor": 2
}
